{
 "cells": [
  {
   "cell_type": "code",
   "execution_count": 1,
   "metadata": {},
   "outputs": [],
   "source": [
    "#data parsing \n",
    "import json\n",
    "import pandas as pd"
   ]
  },
  {
   "cell_type": "code",
   "execution_count": 2,
   "metadata": {},
   "outputs": [
    {
     "name": "stdout",
     "output_type": "stream",
     "text": [
      "     transcript_id  transcript_position nucleotide_sequence  dwelling_time  \\\n",
      "0  ENST00000000233                  244             AAGACCA        0.00299   \n",
      "1  ENST00000000233                  244             AAGACCA        0.00631   \n",
      "2  ENST00000000233                  244             AAGACCA        0.00465   \n",
      "3  ENST00000000233                  244             AAGACCA        0.00398   \n",
      "4  ENST00000000233                  244             AAGACCA        0.00664   \n",
      "\n",
      "   std_dev  mean_signal  dwelling_time_flank1  std_dev_flank1  \\\n",
      "0     2.06        125.0               0.01770           10.40   \n",
      "1     2.53        125.0               0.00844            4.67   \n",
      "2     3.92        109.0               0.01360           12.00   \n",
      "3     2.06        125.0               0.00830            5.01   \n",
      "4     2.92        120.0               0.00266            3.94   \n",
      "\n",
      "   mean_signal_flank1  dwelling_time_flank2  std_dev_flank2  \\\n",
      "0               122.0               0.00930           10.90   \n",
      "1               126.0               0.01030            6.30   \n",
      "2               124.0               0.00498            2.13   \n",
      "3               130.0               0.00498            3.78   \n",
      "4               129.0               0.01300            7.15   \n",
      "\n",
      "   mean_signal_flank2  \n",
      "0                84.1  \n",
      "1                80.9  \n",
      "2                79.6  \n",
      "3                80.4  \n",
      "4                82.2  \n"
     ]
    }
   ],
   "source": [
    "def parse_data(json_file):\n",
    "    # Initialize an empty list to hold the parsed data\n",
    "    parsed_data = []\n",
    "\n",
    "    # Open the file and read line by line\n",
    "    with open(json_file, 'r') as f:\n",
    "        for line in f:\n",
    "            if line.strip():  # Skip empty lines\n",
    "                try:\n",
    "                    # Load the JSON data from the current line\n",
    "                    json_data = json.loads(line)\n",
    "\n",
    "                    # Iterate through the transcripts\n",
    "                    for transcript_id, positions in json_data.items():\n",
    "                        # Iterate through each position in the transcript\n",
    "                        for pos, nucleotides in positions.items():\n",
    "                            # Convert position to integer\n",
    "                            pos = int(pos)  # Ensure 'transcript_position' is an integer\n",
    "                            \n",
    "                            # Iterate through the nucleotide combinations\n",
    "                            for nucleotide_seq, reads in nucleotides.items():\n",
    "                                # Iterate through each read and extract features\n",
    "                                for read in reads:\n",
    "                                    # Create a dictionary to store features for this read\n",
    "                                    features = {\n",
    "                                        'transcript_id': transcript_id,\n",
    "                                        'transcript_position': pos,\n",
    "                                        'nucleotide_sequence': nucleotide_seq,\n",
    "                                        'dwelling_time': read[0],\n",
    "                                        'std_dev': read[1],\n",
    "                                        'mean_signal': read[2],\n",
    "                                        'dwelling_time_flank1': read[3],\n",
    "                                        'std_dev_flank1': read[4],\n",
    "                                        'mean_signal_flank1': read[5],\n",
    "                                        'dwelling_time_flank2': read[6],\n",
    "                                        'std_dev_flank2': read[7],\n",
    "                                        'mean_signal_flank2': read[8],\n",
    "                                    }\n",
    "                                    # Append the features dictionary to the list\n",
    "                                    parsed_data.append(features)\n",
    "\n",
    "                except json.JSONDecodeError as e:\n",
    "                    print(f\"Error parsing line: {e}\")\n",
    "\n",
    "    # Convert the list of parsed data into a DataFrame\n",
    "    df = pd.DataFrame(parsed_data)\n",
    "    return df  # Return the DataFrame\n",
    "\n",
    "# Main code block\n",
    "if __name__ == \"__main__\":\n",
    "    jsonfile = \"C:/uni/y4s1/DSA4262/grpproj/dataset0.json\"  # Replace with your actual JSON file path\n",
    "    parsed_df = parse_data(jsonfile)  # Get the DataFrame from parse_data\n",
    "    print(parsed_df.head())\n"
   ]
  },
  {
   "cell_type": "code",
   "execution_count": 2,
   "metadata": {},
   "outputs": [
    {
     "name": "stdout",
     "output_type": "stream",
     "text": [
      "     transcript_id  transcript_position nucleotide_sequence  dwelling_time  \\\n",
      "0  ENST00000000233                  244             AAGACCA       0.008264   \n",
      "1  ENST00000000233                  261             CAAACTG       0.006609   \n",
      "2  ENST00000000233                  316             GAAACAG       0.007570   \n",
      "3  ENST00000000233                  332             AGAACAT       0.010620   \n",
      "4  ENST00000000233                  368             AGGACAA       0.010701   \n",
      "\n",
      "    std_dev  mean_signal  dwelling_time_flank1  std_dev_flank1  \\\n",
      "0  4.223784   123.702703              0.009373        7.382162   \n",
      "1  3.216424   109.681395              0.006813        3.226535   \n",
      "2  2.940541   105.475676              0.007416        3.642703   \n",
      "3  6.476350   129.355000              0.008632        2.899200   \n",
      "4  6.415051   117.924242              0.011479        5.870303   \n",
      "\n",
      "   mean_signal_flank1  dwelling_time_flank2  std_dev_flank2  \\\n",
      "0          125.913514              0.007345        4.386989   \n",
      "1          107.889535              0.007710        3.016599   \n",
      "2           98.947027              0.007555        2.087146   \n",
      "3           97.836500              0.006101        2.236520   \n",
      "4          121.954545              0.010019        4.260253   \n",
      "\n",
      "   mean_signal_flank2  \n",
      "0           80.570270  \n",
      "1           94.290698  \n",
      "2           89.364324  \n",
      "3           89.154000  \n",
      "4           85.178788  \n"
     ]
    }
   ],
   "source": [
    "agg_parsed_df = pd.read_csv(\"C:/uni/y4s1/DSA4262/grpproj/rf_aggregated.csv\")\n",
    "print(agg_parsed_df.head())"
   ]
  },
  {
   "cell_type": "code",
   "execution_count": 3,
   "metadata": {},
   "outputs": [
    {
     "name": "stdout",
     "output_type": "stream",
     "text": [
      "Original Dataset - Features shape: (121838, 9), Labels shape: (121838,)\n"
     ]
    }
   ],
   "source": [
    "# Data Preparation - Original Dataset\n",
    "\n",
    "# Load the m6A labels from the original data.info.labelled file\n",
    "original_labels_df = pd.read_csv(\"C:/uni/y4s1/DSA4262/grpproj/data.info.labelled\", header=None, names=['gene_id', 'transcript_id', 'transcript_position', 'label'])\n",
    "\n",
    "# Ensure 'transcript_position' in original_labels_df is an integer\n",
    "original_labels_df['transcript_position'] = pd.to_numeric(original_labels_df['transcript_position'], errors='coerce')\n",
    "\n",
    "# Merge features DataFrame (parsed_df) with original labels DataFrame\n",
    "original_merged_df = pd.merge(agg_parsed_df, original_labels_df, on=['transcript_id', 'transcript_position'], how='left')\n",
    "\n",
    "# Step 1: Define features (X) and target variable (y) for the original dataset\n",
    "y_original = original_merged_df['label']  # Binary label for m6A modifications (original)\n",
    "X_original = original_merged_df.drop(columns=['transcript_id', 'transcript_position', 'nucleotide_sequence', 'label', 'gene_id'])\n",
    "\n",
    "# Step 2: Convert numeric columns and drop non-numeric ones for the original dataset\n",
    "X_original = X_original.apply(pd.to_numeric, errors='coerce')  # Convert to numeric and set invalid parsing to NaN\n",
    "X_original = X_original.dropna()  # Drop rows with NaN values\n",
    "\n",
    "# Optionally, print shapes to verify\n",
    "print(f\"Original Dataset - Features shape: {X_original.shape}, Labels shape: {y_original.shape}\")\n"
   ]
  },
  {
   "cell_type": "code",
   "execution_count": 12,
   "metadata": {},
   "outputs": [
    {
     "name": "stdout",
     "output_type": "stream",
     "text": [
      "Oversampled Balanced Dataset - Features shape: (116362, 9), Labels shape: (116362,)\n"
     ]
    }
   ],
   "source": [
    "# Data Preparation - Balanced Dataset (oversampled)\n",
    "\n",
    "# Load the m6A labels from the balanced_labels.csv file\n",
    "overbalanced_labels_df = pd.read_csv(\"C:/uni/y4s1/DSA4262/grpproj/overbalanced_labels.csv\")\n",
    "\n",
    "# Ensure 'transcript_position' in balanced_labels_df is an integer\n",
    "overbalanced_labels_df['transcript_position'] = pd.to_numeric(overbalanced_labels_df['transcript_position'], errors='coerce')\n",
    "\n",
    "# Merge features DataFrame (parsed_df) with balanced labels DataFrame\n",
    "overbalanced_merged_df = pd.merge(agg_parsed_df, overbalanced_labels_df, on=['transcript_id', 'transcript_position'], how='left')\n",
    "overbalanced_merged_df = overbalanced_merged_df.dropna(subset=['label'])\n",
    "\n",
    "# Step 1: Define features (X) and target variable (y) for the balanced dataset\n",
    "y_overbalanced = overbalanced_merged_df['label']  # Binary label for m6A modifications (balanced)\n",
    "X_overbalanced = overbalanced_merged_df.drop(columns=['transcript_id', 'transcript_position', 'nucleotide_sequence', 'label', 'gene_id'])\n",
    "\n",
    "# Step 2: Convert numeric columns and drop non-numeric ones for the balanced dataset\n",
    "X_overbalanced = X_overbalanced.apply(pd.to_numeric, errors='coerce')  # Convert to numeric and set invalid parsing to NaN\n",
    "X_overbalanced = X_overbalanced.dropna()  # Drop rows with NaN values\n",
    "\n",
    "# Optionally, print shapes to verify\n",
    "print(f\"Oversampled Balanced Dataset - Features shape: {X_overbalanced.shape}, Labels shape: {y_overbalanced.shape}\")"
   ]
  },
  {
   "cell_type": "code",
   "execution_count": 5,
   "metadata": {},
   "outputs": [
    {
     "name": "stdout",
     "output_type": "stream",
     "text": [
      "Undersampled Balanced Dataset - Features shape: (13687, 9), Labels shape: (13687,)\n"
     ]
    }
   ],
   "source": [
    "# Data Preparation - Balanced Dataset (undersampled)\n",
    "\n",
    "# Load the m6A labels from the balanced_labels.csv file\n",
    "underbalanced_labels_df = pd.read_csv(\"C:/uni/y4s1/DSA4262/grpproj/underbalanced_labels.csv\")\n",
    "\n",
    "# Ensure 'transcript_position' in balanced_labels_df is an integer\n",
    "underbalanced_labels_df['transcript_position'] = pd.to_numeric(underbalanced_labels_df['transcript_position'], errors='coerce')\n",
    "\n",
    "# Merge features DataFrame (parsed_df) with balanced labels DataFrame\n",
    "underbalanced_merged_df = pd.merge(agg_parsed_df, underbalanced_labels_df, on=['transcript_id', 'transcript_position'], how='left')\n",
    "underbalanced_merged_df = underbalanced_merged_df.dropna(subset=['label'])\n",
    "\n",
    "# Step 1: Define features (X) and target variable (y) for the balanced dataset\n",
    "y_underbalanced = underbalanced_merged_df['label']  # Binary label for m6A modifications (balanced)\n",
    "X_underbalanced = underbalanced_merged_df.drop(columns=['transcript_id', 'transcript_position', 'nucleotide_sequence', 'label', 'gene_id'])\n",
    "\n",
    "# Step 2: Convert numeric columns and drop non-numeric ones for the balanced dataset\n",
    "X_underbalanced = X_underbalanced.apply(pd.to_numeric, errors='coerce')  # Convert to numeric and set invalid parsing to NaN\n",
    "X_underbalanced = X_underbalanced.dropna()  # Drop rows with NaN values\n",
    "\n",
    "# Optionally, print shapes to verify\n",
    "print(f\"Undersampled Balanced Dataset - Features shape: {X_underbalanced.shape}, Labels shape: {y_underbalanced.shape}\")\n"
   ]
  },
  {
   "cell_type": "markdown",
   "metadata": {},
   "source": [
    "Model Training with original labelled data"
   ]
  },
  {
   "cell_type": "code",
   "execution_count": 6,
   "metadata": {},
   "outputs": [],
   "source": [
    "# Import necessary libraries for evaluation metrics\n",
    "from sklearn.ensemble import RandomForestClassifier\n",
    "from sklearn.model_selection import train_test_split\n",
    "from sklearn.metrics import accuracy_score, precision_score, recall_score, f1_score, roc_auc_score\n",
    "from sklearn.preprocessing import LabelBinarizer\n",
    "import numpy as np"
   ]
  },
  {
   "cell_type": "code",
   "execution_count": 5,
   "metadata": {},
   "outputs": [],
   "source": [
    "import pickle"
   ]
  },
  {
   "cell_type": "code",
   "execution_count": 9,
   "metadata": {},
   "outputs": [],
   "source": [
    "# save model\n",
    "with open('rf_model_original.pkl','wb') as f:\n",
    "    pickle.dump(rf_model_original,f)"
   ]
  },
  {
   "cell_type": "code",
   "execution_count": 9,
   "metadata": {},
   "outputs": [],
   "source": [
    "#  load model\n",
    "with open('rf_model_original.pkl', 'rb') as f:\n",
    "    rf_model_original = pickle.load(f)"
   ]
  },
  {
   "cell_type": "code",
   "execution_count": 7,
   "metadata": {},
   "outputs": [
    {
     "name": "stdout",
     "output_type": "stream",
     "text": [
      "Unique values in y_test: {'1', '0'}\n",
      "Unique values in y_pred: {'1', '0'}\n"
     ]
    }
   ],
   "source": [
    "# Assuming X_original contains the features and y_original contains the labels\n",
    "# Split the dataset into training and testing sets\n",
    "X_train, X_test, y_train, y_test = train_test_split(X_original, y_original, test_size=0.3, random_state=42)\n",
    "\n",
    "# Initialize the Random Forest classifier\n",
    "rf_model_original = RandomForestClassifier(n_estimators=100, random_state=42)\n",
    "\n",
    "# Train the model\n",
    "rf_model_original.fit(X_train, y_train)\n",
    "\n",
    "# Make predictions on the test set\n",
    "y_pred = rf_model_original.predict(X_test)\n",
    "\n",
    "print(\"Unique values in y_test:\", set(y_test))\n",
    "print(\"Unique values in y_pred:\", set(y_pred))"
   ]
  },
  {
   "cell_type": "code",
   "execution_count": 8,
   "metadata": {},
   "outputs": [
    {
     "name": "stdout",
     "output_type": "stream",
     "text": [
      "Accuracy: 0.9610\n",
      "Precision: 0.6709\n",
      "Recall: 0.2308\n",
      "F1 Score: 0.3435\n",
      "AUC-ROC: 0.8753\n"
     ]
    }
   ],
   "source": [
    "# Ensure predictions and test labels are integers\n",
    "y_test = np.array(y_test)\n",
    "y_test = y_test.astype(int)\n",
    "y_pred = y_pred.astype(int)\n",
    "\n",
    "# Calculate evaluation metrics\n",
    "accuracy = accuracy_score(y_test, y_pred)\n",
    "precision = precision_score(y_test, y_pred, average='binary', zero_division=0)  # Handle cases with no positive predictions\n",
    "recall = recall_score(y_test, y_pred, average='binary', zero_division=0)\n",
    "f1 = f1_score(y_test, y_pred, average='binary', zero_division=0)\n",
    "\n",
    "# Binarize the labels for ROC AUC calculation\n",
    "lb = LabelBinarizer()\n",
    "y_test_binarized = lb.fit_transform(y_test)\n",
    "y_pred_proba = rf_model_original.predict_proba(X_test)[:, 1]  # Probabilities for the positive class\n",
    "auc_roc = roc_auc_score(y_test_binarized, y_pred_proba)\n",
    "\n",
    "# Print evaluation metrics\n",
    "print(f\"Accuracy: {accuracy:.4f}\")\n",
    "print(f\"Precision: {precision:.4f}\")\n",
    "print(f\"Recall: {recall:.4f}\")\n",
    "print(f\"F1 Score: {f1:.4f}\")\n",
    "print(f\"AUC-ROC: {auc_roc:.4f}\")"
   ]
  },
  {
   "cell_type": "markdown",
   "metadata": {},
   "source": [
    "Model Training with balanced labelled data"
   ]
  },
  {
   "cell_type": "markdown",
   "metadata": {},
   "source": [
    "Undersampled Data"
   ]
  },
  {
   "cell_type": "code",
   "execution_count": 15,
   "metadata": {},
   "outputs": [],
   "source": [
    "# save model\n",
    "import pickle\n",
    "with open('rf_model_under.pkl','wb') as f:\n",
    "    pickle.dump(rf_model_under,f)"
   ]
  },
  {
   "cell_type": "code",
   "execution_count": 6,
   "metadata": {},
   "outputs": [],
   "source": [
    "#  load model\n",
    "with open('rf_model_under.pkl', 'rb') as f:\n",
    "    rf_model_under = pickle.load(f)"
   ]
  },
  {
   "cell_type": "code",
   "execution_count": 10,
   "metadata": {},
   "outputs": [],
   "source": [
    "# Split the dataset into training (70%) and testing (30%) sets\n",
    "X_train, X_test, y_train, y_test = train_test_split(X_underbalanced, y_underbalanced, test_size=0.3, random_state=42)\n",
    "\n",
    "# Initialize the Random Forest classifier\n",
    "rf_model_under = RandomForestClassifier(n_estimators=100, random_state=42)\n",
    "\n",
    "# Train the model\n",
    "rf_model_under.fit(X_train, y_train)\n",
    "\n",
    "# Make predictions on the test set\n",
    "y_pred = rf_model_under.predict(X_test)"
   ]
  },
  {
   "cell_type": "code",
   "execution_count": 11,
   "metadata": {},
   "outputs": [
    {
     "name": "stdout",
     "output_type": "stream",
     "text": [
      "Accuracy: 0.8130\n",
      "Precision: 0.7945\n",
      "Recall: 0.7256\n",
      "F1 Score: 0.7585\n",
      "AUC-ROC: 0.8816\n"
     ]
    }
   ],
   "source": [
    "# Ensure predictions and test labels are integers\n",
    "y_test = np.array(y_test)\n",
    "y_test = y_test.astype(int)\n",
    "y_pred = y_pred.astype(int)\n",
    "\n",
    "# Calculate evaluation metrics\n",
    "accuracy = accuracy_score(y_test, y_pred)\n",
    "precision = precision_score(y_test, y_pred, average='binary', zero_division=0)  # Handle cases with no positive predictions\n",
    "recall = recall_score(y_test, y_pred, average='binary', zero_division=0)\n",
    "f1 = f1_score(y_test, y_pred, average='binary', zero_division=0)\n",
    "\n",
    "# Binarize the labels for ROC AUC calculation\n",
    "lb = LabelBinarizer()\n",
    "y_test_binarized = lb.fit_transform(y_test)\n",
    "y_pred_proba = rf_model_under.predict_proba(X_test)[:, 1]  # Probabilities for the positive class\n",
    "auc_roc = roc_auc_score(y_test_binarized, y_pred_proba)\n",
    "\n",
    "# Print evaluation metrics\n",
    "print(f\"Accuracy: {accuracy:.4f}\")\n",
    "print(f\"Precision: {precision:.4f}\")\n",
    "print(f\"Recall: {recall:.4f}\")\n",
    "print(f\"F1 Score: {f1:.4f}\")\n",
    "print(f\"AUC-ROC: {auc_roc:.4f}\")"
   ]
  },
  {
   "cell_type": "markdown",
   "metadata": {},
   "source": [
    "Oversampled Data"
   ]
  },
  {
   "cell_type": "code",
   "execution_count": 13,
   "metadata": {},
   "outputs": [],
   "source": [
    "# Split the dataset into training (70%) and testing (30%) sets\n",
    "X_train, X_test, y_train, y_test = train_test_split(X_overbalanced, y_overbalanced, test_size=0.3, random_state=42)\n",
    "\n",
    "# Initialize the Random Forest classifier\n",
    "rf_model_over = RandomForestClassifier(n_estimators=100, random_state=42)\n",
    "\n",
    "# Train the model\n",
    "rf_model_over.fit(X_train, y_train)\n",
    "\n",
    "# Make predictions on the test set\n",
    "y_pred = rf_model_over.predict(X_test)"
   ]
  },
  {
   "cell_type": "code",
   "execution_count": 17,
   "metadata": {},
   "outputs": [
    {
     "data": {
      "text/plain": [
       "['rf_model_over.joblib']"
      ]
     },
     "execution_count": 17,
     "metadata": {},
     "output_type": "execute_result"
    }
   ],
   "source": [
    "import joblib\n",
    "\n",
    "# Save model using joblib\n",
    "joblib.dump(rf_model_over, 'rf_model_over.joblib')"
   ]
  },
  {
   "cell_type": "code",
   "execution_count": null,
   "metadata": {},
   "outputs": [],
   "source": [
    "#  load model\n",
    "rf_model_loaded = joblib.load('rf_model_over.joblib', mmap_mode='r')"
   ]
  },
  {
   "cell_type": "code",
   "execution_count": 14,
   "metadata": {},
   "outputs": [
    {
     "name": "stdout",
     "output_type": "stream",
     "text": [
      "Accuracy: 0.9863\n",
      "Precision: 0.9672\n",
      "Recall: 0.9995\n",
      "F1 Score: 0.9831\n",
      "AUC-ROC: 0.9998\n"
     ]
    }
   ],
   "source": [
    "# Ensure predictions and test labels are integers\n",
    "y_test = np.array(y_test)\n",
    "y_test = y_test.astype(int)\n",
    "y_pred = y_pred.astype(int)\n",
    "\n",
    "# Calculate evaluation metrics\n",
    "accuracy = accuracy_score(y_test, y_pred)\n",
    "precision = precision_score(y_test, y_pred, average='binary', zero_division=0)  # Handle cases with no positive predictions\n",
    "recall = recall_score(y_test, y_pred, average='binary', zero_division=0)\n",
    "f1 = f1_score(y_test, y_pred, average='binary', zero_division=0)\n",
    "\n",
    "# Binarize the labels for ROC AUC calculation\n",
    "lb = LabelBinarizer()\n",
    "y_test_binarized = lb.fit_transform(y_test)\n",
    "y_pred_proba = rf_model_over.predict_proba(X_test)[:, 1]  # Probabilities for the positive class\n",
    "auc_roc = roc_auc_score(y_test_binarized, y_pred_proba)\n",
    "\n",
    "# Print evaluation metrics\n",
    "print(f\"Accuracy: {accuracy:.4f}\")\n",
    "print(f\"Precision: {precision:.4f}\")\n",
    "print(f\"Recall: {recall:.4f}\")\n",
    "print(f\"F1 Score: {f1:.4f}\")\n",
    "print(f\"AUC-ROC: {auc_roc:.4f}\")"
   ]
  },
  {
   "cell_type": "markdown",
   "metadata": {},
   "source": [
    "Original Dataset    \n",
    "Accuracy: 0.9610  \n",
    "Precision: 0.6709  \n",
    "Recall: 0.2308  \n",
    "F1 Score: 0.3435  \n",
    "AUC-ROC: 0.8753\n",
    "\n",
    "Undersampled Dataset  \n",
    "Accuracy: 0.8130  \n",
    "Precision: 0.7945  \n",
    "Recall: 0.7256  \n",
    "F1 Score: 0.7585  \n",
    "AUC-ROC: 0.8816\n",
    "\n",
    "Oversampled Dataset  \n",
    "Accuracy: 0.9863  \n",
    "Precision: 0.9672  \n",
    "Recall: 0.9995  \n",
    "F1 Score: 0.9831  \n",
    "AUC-ROC: 0.9998"
   ]
  },
  {
   "cell_type": "markdown",
   "metadata": {},
   "source": [
    "Accuracy  \n",
    "Original Dataset (0.9610): A high accuracy reflects the model’s ability to predict the majority of instances correctly. However, in genomics, this can be misleading due to imbalanced datasets, where positive cases (m6A modifications) are rare compared to negative cases (non-modified sites).  \n",
    "Undersampled Dataset (0.8130): The lower accuracy reflects a more realistic performance by addressing both modified and non-modified sites, balancing predictions across classes.\n",
    "\n",
    "Precision  \n",
    "Original Dataset (0.6709): The proportion of true m6A modifications among predicted modifications is relatively low. This suggests a higher number of false positives, leading to unreliable downstream results.  \n",
    "Undersampled Dataset (0.7945): The higher precision shows improved ability to correctly identify m6A sites, reducing false positives. This is critical in genomics, as false positives could mislead research conclusions or experimental designs.\n",
    "\n",
    "Recall  \n",
    "Original Dataset (0.2308): A low recall indicates that most actual m6A modifications are missed. In genomics, missing m6A sites could cause significant gaps in understanding gene regulation.  \n",
    "Undersampled Dataset (0.7256): The improved recall demonstrates that the model captures a higher proportion of m6A sites, which is essential for robust analysis of gene expression and regulatory mechanisms.\n",
    "\n",
    "F1 Score  \n",
    "Original Dataset (0.3435): The F1 score, balancing precision and recall, is quite low, reflecting the model's poor overall ability to make reliable m6A predictions.  \n",
    "Undersampled Dataset (0.7585): The higher F1 score indicates a better balance between precision and recall, enhancing the model's utility for genomics research.\n",
    "\n",
    "AUC-ROC  \n",
    "Original Dataset (0.8753): Although this AUC-ROC score suggests some ability to distinguish between m6A and non-m6A sites, the imbalanced data may affect its practical relevance.  \n",
    "Undersampled Dataset (0.8816): The slight improvement in AUC-ROC shows better capacity to differentiate between classes, which supports more reliable biological interpretations.\n",
    "\n",
    "Conclusion\n",
    "The undersampled dataset provides a more robust model for predicting m6A modifications. While the original dataset shows high accuracy, its poor recall and modest precision highlight the limitations of working with imbalanced data. In contrast, the undersampled model captures more true m6A sites and reduces false positives, making it more reliable for studying gene regulation. The enhanced F1 score and improved AUC-ROC further support its applicability for genomics research, leading to more accurate insights into m6A modifications and their biological implications."
   ]
  },
  {
   "cell_type": "markdown",
   "metadata": {},
   "source": [
    "Now that we have concluded that the undersampled balanced data set perfoms better, we will use the balanced dataset to carry out hyperparameter tuning and feature importance analysis."
   ]
  },
  {
   "cell_type": "markdown",
   "metadata": {},
   "source": [
    "Hyperparameter tuning (Hyperopt)"
   ]
  },
  {
   "cell_type": "code",
   "execution_count": 15,
   "metadata": {},
   "outputs": [],
   "source": [
    "import numpy as np\n",
    "from hyperopt import fmin, tpe, hp, STATUS_OK, Trials\n",
    "from sklearn.ensemble import RandomForestClassifier\n",
    "from sklearn.model_selection import train_test_split, cross_val_score\n",
    "from sklearn.metrics import accuracy_score, precision_score, recall_score, f1_score, roc_auc_score\n",
    "from sklearn.preprocessing import LabelBinarizer"
   ]
  },
  {
   "cell_type": "code",
   "execution_count": 16,
   "metadata": {},
   "outputs": [
    {
     "name": "stdout",
     "output_type": "stream",
     "text": [
      "100%|██████████| 30/30 [00:38<00:00,  1.27s/trial, best loss: -0.8502901972481021]\n",
      "Best hyperparameters: {'n_estimators': 110, 'max_depth': 20, 'min_samples_split': 4, 'min_samples_leaf': 3, 'max_features': 'log2', 'bootstrap': True}\n"
     ]
    }
   ],
   "source": [
    "from hyperopt import hp, tpe, Trials, fmin, STATUS_OK\n",
    "from sklearn.ensemble import RandomForestClassifier\n",
    "from sklearn.model_selection import cross_val_score, train_test_split\n",
    "import numpy as np\n",
    "\n",
    "# Split the dataset into training (70%) and testing (30%) sets\n",
    "X_train, X_test, y_train, y_test = train_test_split(\n",
    "    X_underbalanced, y_underbalanced, test_size=0.3, random_state=42\n",
    ")\n",
    "\n",
    "# Use a smaller subset of training data for quicker evaluations\n",
    "X_train_small, _, y_train_small, _ = train_test_split(\n",
    "    X_train, y_train, test_size=0.8, random_state=42\n",
    ")\n",
    "\n",
    "# Define the objective function for Hyperopt with warm start and parallelization\n",
    "def objective(params):\n",
    "    rf_model = RandomForestClassifier(\n",
    "        warm_start=True, n_jobs=-1, random_state=42, **params\n",
    "    )\n",
    "    \n",
    "    # Incrementally add 10 estimators for each call (warm start)\n",
    "    rf_model.n_estimators += 10\n",
    "\n",
    "    # Use 3-fold cross-validation for quicker evaluations\n",
    "    cv_scores = cross_val_score(\n",
    "        rf_model, X_train_small, y_train_small, cv=3, scoring='roc_auc', n_jobs=-1\n",
    "    )\n",
    "    \n",
    "    mean_auc = np.mean(cv_scores)\n",
    "    return {'loss': -mean_auc, 'status': STATUS_OK}\n",
    "\n",
    "# Reduce the parameter search space for faster tuning\n",
    "space = {\n",
    "    'n_estimators': hp.choice('n_estimators', list(range(50, 150, 10))),\n",
    "    'max_depth': hp.choice('max_depth', list(range(10, 30, 5))),\n",
    "    'min_samples_split': hp.choice('min_samples_split', list(range(2, 6))),\n",
    "    'min_samples_leaf': hp.choice('min_samples_leaf', list(range(1, 5))),\n",
    "    'max_features': hp.choice('max_features', ['sqrt', 'log2']),\n",
    "    'bootstrap': hp.choice('bootstrap', [True, False])\n",
    "}\n",
    "\n",
    "# Initialize Trials object to keep track of optimization progress\n",
    "trials = Trials()\n",
    "\n",
    "# Run the Hyperopt optimization\n",
    "best_params = fmin(\n",
    "    fn=objective, space=space, algo=tpe.suggest, max_evals=30, trials=trials\n",
    ")\n",
    "\n",
    "# Convert best_params to readable values\n",
    "best_params_converted = {\n",
    "    'n_estimators': int(best_params['n_estimators'] * 10 + 50),  # Mapping the index back to the value\n",
    "    'max_depth': int(best_params['max_depth'] * 5 + 10),  # Same idea for other indexed parameters\n",
    "    'min_samples_split': int(best_params['min_samples_split'] + 2),\n",
    "    'min_samples_leaf': int(best_params['min_samples_leaf'] + 1),\n",
    "    'max_features': ['sqrt', 'log2'][best_params['max_features']],\n",
    "    'bootstrap': bool(best_params['bootstrap']),\n",
    "}\n",
    "\n",
    "# Print the best hyperparameters found\n",
    "print(f\"Best hyperparameters: {best_params_converted}\")\n"
   ]
  },
  {
   "cell_type": "markdown",
   "metadata": {},
   "source": [
    "Feature Importance Analysis "
   ]
  },
  {
   "cell_type": "code",
   "execution_count": 17,
   "metadata": {},
   "outputs": [],
   "source": [
    "import numpy as np\n",
    "import pandas as pd\n",
    "import matplotlib.pyplot as plt\n",
    "from sklearn.ensemble import RandomForestClassifier\n",
    "from sklearn.model_selection import train_test_split"
   ]
  },
  {
   "cell_type": "code",
   "execution_count": 18,
   "metadata": {},
   "outputs": [
    {
     "name": "stdout",
     "output_type": "stream",
     "text": [
      "Ranked Feature Importances:\n",
      "                Feature  Importance\n",
      "5    mean_signal_flank1    0.213806\n",
      "2           mean_signal    0.181984\n",
      "4        std_dev_flank1    0.156194\n",
      "8    mean_signal_flank2    0.116472\n",
      "1               std_dev    0.087147\n",
      "7        std_dev_flank2    0.066900\n",
      "3  dwelling_time_flank1    0.064913\n",
      "0         dwelling_time    0.058262\n",
      "6  dwelling_time_flank2    0.054324\n"
     ]
    },
    {
     "data": {
      "image/png": "[encoded data removed]",
      "text/plain": [
       "<Figure size 1200x600 with 1 Axes>"
      ]
     },
     "metadata": {},
     "output_type": "display_data"
    }
   ],
   "source": [
    "# Split the dataset into training (70%) and testing (30%) sets\n",
    "X_train, X_test, y_train, y_test = train_test_split(\n",
    "    X_underbalanced, y_underbalanced, test_size=0.3, random_state=42\n",
    ")\n",
    "\n",
    "# Train Random Forest using the best hyperparameters found\n",
    "best_params_converted = {\n",
    "    'n_estimators': 110,  # Example from earlier results\n",
    "    'max_depth': 20,\n",
    "    'min_samples_split': 4,\n",
    "    'min_samples_leaf': 3,\n",
    "    'max_features': 'log2',\n",
    "    'bootstrap': True\n",
    "}\n",
    "\n",
    "rf_model_bp = RandomForestClassifier(**best_params_converted, random_state=42, n_jobs=-1)\n",
    "rf_model_bp.fit(X_train, y_train)\n",
    "\n",
    "# Extract feature importances\n",
    "feature_importances = rf_model_bp.feature_importances_\n",
    "\n",
    "# Create a DataFrame for better visualization (optional)\n",
    "features = X_underbalanced.columns  # Adjust if you have feature names available\n",
    "importance_df = pd.DataFrame({\n",
    "    'Feature': features,\n",
    "    'Importance': feature_importances\n",
    "}).sort_values(by='Importance', ascending=False)\n",
    "\n",
    "# Display the ranked feature importances\n",
    "print(\"Ranked Feature Importances:\")\n",
    "print(importance_df.head(10))\n",
    "\n",
    "# Plot feature importances\n",
    "plt.figure(figsize=(12, 6))\n",
    "plt.barh(importance_df['Feature'][:10], importance_df['Importance'][:10], color='skyblue')\n",
    "plt.xlabel('Feature Importance')\n",
    "plt.ylabel('Feature')\n",
    "plt.title('Ranked Feature Importances')\n",
    "plt.gca().invert_yaxis()  # Invert y-axis to have the most important feature on top\n",
    "plt.show()"
   ]
  },
  {
   "cell_type": "code",
   "execution_count": 19,
   "metadata": {},
   "outputs": [
    {
     "name": "stdout",
     "output_type": "stream",
     "text": [
      "Accuracy: 0.8196\n",
      "Precision: 0.8052\n",
      "Recall: 0.7310\n",
      "F1 Score: 0.7663\n",
      "AUC-ROC: 0.8850\n"
     ]
    }
   ],
   "source": [
    "# Make predictions on the test set\n",
    "y_pred = rf_model_bp.predict(X_test)\n",
    "\n",
    "# Ensure predictions and test labels are integers\n",
    "y_test = np.array(y_test)\n",
    "y_test = y_test.astype(int)\n",
    "y_pred = y_pred.astype(int)\n",
    "\n",
    "# Calculate evaluation metrics\n",
    "accuracy = accuracy_score(y_test, y_pred)\n",
    "precision = precision_score(y_test, y_pred, average='binary', zero_division=0)  # Handle cases with no positive predictions\n",
    "recall = recall_score(y_test, y_pred, average='binary', zero_division=0)\n",
    "f1 = f1_score(y_test, y_pred, average='binary', zero_division=0)\n",
    "\n",
    "# Binarize the labels for ROC AUC calculation\n",
    "lb = LabelBinarizer()\n",
    "y_test_binarized = lb.fit_transform(y_test)\n",
    "y_pred_proba = rf_model_bp.predict_proba(X_test)[:, 1]  # Probabilities for the positive class\n",
    "auc_roc = roc_auc_score(y_test_binarized, y_pred_proba)\n",
    "\n",
    "# Print evaluation metrics\n",
    "print(f\"Accuracy: {accuracy:.4f}\")\n",
    "print(f\"Precision: {precision:.4f}\")\n",
    "print(f\"Recall: {recall:.4f}\")\n",
    "print(f\"F1 Score: {f1:.4f}\")\n",
    "print(f\"AUC-ROC: {auc_roc:.4f}\")"
   ]
  },
  {
   "cell_type": "markdown",
   "metadata": {},
   "source": [
    "Accuracy  \n",
    "The new dataset shows a slightly higher accuracy (0.8196) compared to the undersampled dataset (0.8130). This indicates a small improvement in the overall correct predictions.\n",
    "\n",
    "Precision  \n",
    "The precision increased in the new dataset (0.8052) compared to the undersampled dataset (0.7945). This suggests a higher proportion of true positive predictions among the positive predictions.\n",
    "\n",
    "Recall  \n",
    "The recall also improved in the new dataset (0.7310) compared to the undersampled dataset (0.7256). This indicates a better ability of the model to identify true positive instances.\n",
    "\n",
    "F1 Score  \n",
    "The F1 score increased in the new dataset (0.7663 vs. 0.7585), demonstrating a better balance between precision and recall.\n",
    "\n",
    "AUC-ROC  \n",
    "The AUC-ROC improved slightly in the new dataset (0.8850 vs. 0.8816), indicating enhanced performance in distinguishing between positive and negative classes.\n",
    "\n",
    "Conclusion  \n",
    "The new dataset, utilizing the best hyperparameters, shows improvements across all metrics: accuracy, precision, recall, F1 score, and AUC-ROC. The higher precision indicates fewer false positives, while the increased recall shows better detection of true positives. This suggests that the hyperparameter tuning has positively impacted the model, resulting in a better balance between false positives and false negatives. The new dataset offers overall enhanced performance compared to the undersampled dataset."
   ]
  },
  {
   "cell_type": "markdown",
   "metadata": {},
   "source": [
    "Removing the least important feature: dwelling_time_flank2"
   ]
  },
  {
   "cell_type": "code",
   "execution_count": 20,
   "metadata": {},
   "outputs": [
    {
     "name": "stdout",
     "output_type": "stream",
     "text": [
      "Removing least important feature: dwelling_time_flank2\n",
      "Performance of the new model without the least important feature:\n",
      "Accuracy: 0.8167\n",
      "Precision: 0.8016\n",
      "Recall: 0.7268\n",
      "F1 Score: 0.7624\n",
      "AUC-ROC: 0.8851\n"
     ]
    }
   ],
   "source": [
    "# Step 1: Identify the least important feature\n",
    "least_important_feature_1 = importance_df.tail(1)['Feature'].values[0]  # Get the name of the least important feature\n",
    "print(f\"Removing least important feature: {least_important_feature_1}\")\n",
    "\n",
    "# Step 2: Drop the least important feature from the training and testing datasets\n",
    "X_train_reduced_1 = X_train.drop(columns=[least_important_feature_1])\n",
    "X_test_reduced_1 = X_test.drop(columns=[least_important_feature_1])\n",
    "\n",
    "# Step 3: Train a new Random Forest model without the least important feature\n",
    "rf_model_reduced_1 = RandomForestClassifier(**best_params_converted, random_state=42, n_jobs=-1)\n",
    "rf_model_reduced_1.fit(X_train_reduced_1, y_train)\n",
    "\n",
    "# Make predictions with the new model\n",
    "y_pred_reduced_1 = rf_model_reduced_1.predict(X_test_reduced_1)\n",
    "\n",
    "# Ensure predictions and test labels are integers\n",
    "y_test_1 = np.array(y_test).astype(int)\n",
    "y_pred_reduced_1 = np.array(y_pred_reduced_1).astype(int)\n",
    "\n",
    "# Calculate evaluation metrics for the new model\n",
    "accuracy_reduced_1 = accuracy_score(y_test_1, y_pred_reduced_1)\n",
    "precision_reduced_1 = precision_score(y_test_1, y_pred_reduced_1, average='binary', zero_division=0)  # Handle cases with no positive predictions\n",
    "recall_reduced_1 = recall_score(y_test_1, y_pred_reduced_1, average='binary', zero_division=0)\n",
    "f1_reduced_1 = f1_score(y_test_1, y_pred_reduced_1, average='binary', zero_division=0)\n",
    "\n",
    "# Binarize the labels for ROC AUC calculation\n",
    "lb_1 = LabelBinarizer()\n",
    "y_test_binarized_1 = lb_1.fit_transform(y_test_1)\n",
    "y_pred_proba_reduced_1 = rf_model_reduced_1.predict_proba(X_test_reduced_1)[:, 1]  # Probabilities for the positive class\n",
    "auc_roc_reduced_1 = roc_auc_score(y_test_binarized_1, y_pred_proba_reduced_1)\n",
    "\n",
    "# Print evaluation metrics for the new model\n",
    "print(\"Performance of the new model without the least important feature:\")\n",
    "print(f\"Accuracy: {accuracy_reduced_1:.4f}\")\n",
    "print(f\"Precision: {precision_reduced_1:.4f}\")\n",
    "print(f\"Recall: {recall_reduced_1:.4f}\")\n",
    "print(f\"F1 Score: {f1_reduced_1:.4f}\")\n",
    "print(f\"AUC-ROC: {auc_roc_reduced_1:.4f}\")\n"
   ]
  },
  {
   "cell_type": "markdown",
   "metadata": {},
   "source": [
    "Remove the 2 least important features"
   ]
  },
  {
   "cell_type": "code",
   "execution_count": 21,
   "metadata": {},
   "outputs": [
    {
     "name": "stdout",
     "output_type": "stream",
     "text": [
      "Removing least important features: ['dwelling_time' 'dwelling_time_flank2']\n",
      "Performance of the new model without the least important features:\n",
      "Accuracy: 0.8132\n",
      "Precision: 0.7946\n",
      "Recall: 0.7262\n",
      "F1 Score: 0.7589\n",
      "AUC-ROC: 0.8835\n"
     ]
    }
   ],
   "source": [
    "# Step 1: Identify the two least important features\n",
    "least_important_features_2 = importance_df.tail(2)['Feature'].values  # Get the names of the two least important features\n",
    "print(f\"Removing least important features: {least_important_features_2}\")\n",
    "\n",
    "# Step 2: Drop the least important features from the training and testing datasets\n",
    "X_train_reduced_2 = X_train.drop(columns=least_important_features_2)\n",
    "X_test_reduced_2 = X_test.drop(columns=least_important_features_2)\n",
    "\n",
    "# Step 3: Train a new Random Forest model without the least important features\n",
    "rf_model_reduced_2 = RandomForestClassifier(**best_params_converted, random_state=42, n_jobs=-1)\n",
    "rf_model_reduced_2.fit(X_train_reduced_2, y_train)\n",
    "\n",
    "# Make predictions with the new model\n",
    "y_pred_reduced_2 = rf_model_reduced_2.predict(X_test_reduced_2)\n",
    "\n",
    "# Ensure predictions and test labels are integers\n",
    "y_test_2 = np.array(y_test).astype(int)\n",
    "y_pred_reduced_2 = np.array(y_pred_reduced_2).astype(int)\n",
    "\n",
    "# Calculate evaluation metrics for the new model\n",
    "accuracy_reduced_2 = accuracy_score(y_test_2, y_pred_reduced_2)\n",
    "precision_reduced_2 = precision_score(y_test_2, y_pred_reduced_2, average='binary', zero_division=0)  # Handle cases with no positive predictions\n",
    "recall_reduced_2 = recall_score(y_test_2, y_pred_reduced_2, average='binary', zero_division=0)\n",
    "f1_reduced_2 = f1_score(y_test_2, y_pred_reduced_2, average='binary', zero_division=0)\n",
    "\n",
    "# Binarize the labels for ROC AUC calculation\n",
    "lb_2 = LabelBinarizer()\n",
    "y_test_binarized_2 = lb_2.fit_transform(y_test_2)\n",
    "y_pred_proba_reduced_2 = rf_model_reduced_2.predict_proba(X_test_reduced_2)[:, 1]  # Probabilities for the positive class\n",
    "auc_roc_reduced_2 = roc_auc_score(y_test_binarized_2, y_pred_proba_reduced_2)\n",
    "\n",
    "# Print evaluation metrics for the new model\n",
    "print(\"Performance of the new model without the least important features:\")\n",
    "print(f\"Accuracy: {accuracy_reduced_2:.4f}\")\n",
    "print(f\"Precision: {precision_reduced_2:.4f}\")\n",
    "print(f\"Recall: {recall_reduced_2:.4f}\")\n",
    "print(f\"F1 Score: {f1_reduced_2:.4f}\")\n",
    "print(f\"AUC-ROC: {auc_roc_reduced_2:.4f}\")"
   ]
  },
  {
   "cell_type": "markdown",
   "metadata": {},
   "source": [
    "Remove the 3 least important features"
   ]
  },
  {
   "cell_type": "code",
   "execution_count": 22,
   "metadata": {},
   "outputs": [
    {
     "name": "stdout",
     "output_type": "stream",
     "text": [
      "Removing least important features: ['dwelling_time_flank1' 'dwelling_time' 'dwelling_time_flank2']\n",
      "Performance of the new model without the least important features:\n",
      "Accuracy: 0.8115\n",
      "Precision: 0.7872\n",
      "Recall: 0.7323\n",
      "F1 Score: 0.7587\n",
      "AUC-ROC: 0.8832\n"
     ]
    }
   ],
   "source": [
    "# Step 1: Identify the three least important features\n",
    "least_important_features_3 = importance_df.tail(3)['Feature'].values  # Get the names of the three least important features\n",
    "print(f\"Removing least important features: {least_important_features_3}\")\n",
    "\n",
    "# Step 2: Drop the least important features from the training and testing datasets\n",
    "X_train_reduced_3 = X_train.drop(columns=least_important_features_3)\n",
    "X_test_reduced_3 = X_test.drop(columns=least_important_features_3)\n",
    "\n",
    "# Step 3: Train a new Random Forest model without the least important features\n",
    "rf_model_reduced_3 = RandomForestClassifier(**best_params_converted, random_state=42, n_jobs=-1)\n",
    "rf_model_reduced_3.fit(X_train_reduced_3, y_train)\n",
    "\n",
    "# Make predictions with the new model\n",
    "y_pred_reduced_3 = rf_model_reduced_3.predict(X_test_reduced_3)\n",
    "\n",
    "# Ensure predictions and test labels are integers\n",
    "y_test_3 = np.array(y_test).astype(int)\n",
    "y_pred_reduced_3 = np.array(y_pred_reduced_3).astype(int)\n",
    "\n",
    "# Calculate evaluation metrics for the new model\n",
    "accuracy_reduced_3 = accuracy_score(y_test_3, y_pred_reduced_3)\n",
    "precision_reduced_3 = precision_score(y_test_3, y_pred_reduced_3, average='binary', zero_division=0)  # Handle cases with no positive predictions\n",
    "recall_reduced_3 = recall_score(y_test_3, y_pred_reduced_3, average='binary', zero_division=0)\n",
    "f1_reduced_3 = f1_score(y_test_3, y_pred_reduced_3, average='binary', zero_division=0)\n",
    "\n",
    "# Binarize the labels for ROC AUC calculation\n",
    "lb_3 = LabelBinarizer()\n",
    "y_test_binarized_3 = lb_3.fit_transform(y_test_3)\n",
    "y_pred_proba_reduced_3 = rf_model_reduced_3.predict_proba(X_test_reduced_3)[:, 1]  # Probabilities for the positive class\n",
    "auc_roc_reduced_3 = roc_auc_score(y_test_binarized_3, y_pred_proba_reduced_3)\n",
    "\n",
    "# Print evaluation metrics for the new model\n",
    "print(\"Performance of the new model without the least important features:\")\n",
    "print(f\"Accuracy: {accuracy_reduced_3:.4f}\")\n",
    "print(f\"Precision: {precision_reduced_3:.4f}\")\n",
    "print(f\"Recall: {recall_reduced_3:.4f}\")\n",
    "print(f\"F1 Score: {f1_reduced_3:.4f}\")\n",
    "print(f\"AUC-ROC: {auc_roc_reduced_3:.4f}\")"
   ]
  },
  {
   "cell_type": "code",
   "execution_count": 23,
   "metadata": {},
   "outputs": [],
   "source": [
    "import matplotlib.pyplot as plt"
   ]
  },
  {
   "cell_type": "code",
   "execution_count": 24,
   "metadata": {},
   "outputs": [
    {
     "data": {
      "image/png": "[encoded data removed]",
      "text/plain": [
       "<Figure size 1200x600 with 1 Axes>"
      ]
     },
     "metadata": {},
     "output_type": "display_data"
    }
   ],
   "source": [
    "# Metrics from the different models\n",
    "models = [\n",
    "    \"No Removal\",\n",
    "    \"Remove 1 Least Important\",\n",
    "    \"Remove 2 Least Important\",\n",
    "    \"Remove 3 Least Important\"\n",
    "]\n",
    "\n",
    "# Updated metric values for each model based on the provided data\n",
    "accuracy_values = [0.7307, 0.7308, 0.7292, 0.7291]\n",
    "precision_values = [0.6889, 0.6896, 0.6860, 0.6860]\n",
    "recall_values = [0.6149, 0.6135, 0.6147, 0.6145]\n",
    "f1_values = [0.6498, 0.6493, 0.6484, 0.6483]\n",
    "auc_roc_values = [0.8022, 0.8023, 0.8006, 0.8006]\n",
    "\n",
    "# Create the line plot\n",
    "plt.figure(figsize=(12, 6))\n",
    "\n",
    "# Plot each metric with increased marker size and line width\n",
    "plt.plot(models, accuracy_values, marker='o', label='Accuracy', linestyle='-', color='b', markersize=10, linewidth=2)\n",
    "plt.plot(models, precision_values, marker='o', label='Precision', linestyle='-', color='g', markersize=10, linewidth=2)\n",
    "plt.plot(models, recall_values, marker='o', label='Recall', linestyle='-', color='r', markersize=10, linewidth=2)\n",
    "plt.plot(models, f1_values, marker='o', label='F1 Score', linestyle='-', color='c', markersize=10, linewidth=2)\n",
    "plt.plot(models, auc_roc_values, marker='o', label='AUC-ROC', linestyle='-', color='m', markersize=10, linewidth=2)\n",
    "\n",
    "# Set y-axis limits for better visibility\n",
    "plt.ylim(0.6, 0.81)\n",
    "\n",
    "# Add labels and title\n",
    "plt.xlabel('Models', fontweight='bold')\n",
    "plt.ylabel('Metrics Value')\n",
    "plt.title('Change in Metrics Across Different Models')\n",
    "\n",
    "# Move legend to the right side\n",
    "plt.legend(loc='upper left', bbox_to_anchor=(1, 1), title='Metrics')  \n",
    "\n",
    "plt.grid()\n",
    "\n",
    "# Show the plot\n",
    "plt.tight_layout()\n",
    "plt.show()\n"
   ]
  },
  {
   "cell_type": "markdown",
   "metadata": {},
   "source": [
    "Accuracy:  \n",
    "Best Accuracy: 0.7308 (Remove 1 Least Important)  \n",
    "Accuracy drops with removal of 2 and 3 least important features.\n",
    "\n",
    "Precision:  \n",
    "Best Precision: 0.6896 (Remove 1 Least Important)  \n",
    "Precision drops with the removal of 2 and 3 least important features.\n",
    "\n",
    "Recall:  \n",
    "Best Recall: 0.6149 (No Removal)  \n",
    "Recall slightly decreases when removing features but is relatively stable.\n",
    "\n",
    "F1 Score:  \n",
    "Best F1 Score: 0.6498 (No Removal)  \n",
    "F1 Score decreases when features are removed.\n",
    "\n",
    "AUC-ROC:  \n",
    "Best AUC-ROC: 0.8023 (Remove 1 Least Important)  \n",
    "AUC-ROC slightly decreases when removing 2 or 3 least important features.\n",
    "\n",
    "Conclusion:  \n",
    "Most Ideal Number of Features to Remove: Removing 1 Least Important Feature is the most ideal option   \n",
    "It provides the best accuracy (0.7308)  \n",
    "It gives the highest precision (0.6896).  \n",
    "It maintains a high AUC-ROC (0.8023), which is crucial for evaluating the model's performance in binary classification.  \n",
    "Removing more than one feature results in a decline in performance metrics, indicating that it may not be beneficial to remove additional features beyond the least important one."
   ]
  }
 ],
 "metadata": {
  "kernelspec": {
   "display_name": "Python 3",
   "language": "python",
   "name": "python3"
  },
  "language_info": {
   "codemirror_mode": {
    "name": "ipython",
    "version": 3
   },
   "file_extension": ".py",
   "mimetype": "text/x-python",
   "name": "python",
   "nbconvert_exporter": "python",
   "pygments_lexer": "ipython3",
   "version": "3.12.6"
  }
 },
 "nbformat": 4,
 "nbformat_minor": 2
}
